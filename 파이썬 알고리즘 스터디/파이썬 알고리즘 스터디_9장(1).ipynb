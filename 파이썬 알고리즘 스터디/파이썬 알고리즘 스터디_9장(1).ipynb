{
 "cells": [
  {
   "cell_type": "markdown",
   "metadata": {},
   "source": [
    "# 파이썬 알고리즘 스터디 9장\n",
    "# 스택, 큐"
   ]
  },
  {
   "cell_type": "markdown",
   "metadata": {},
   "source": [
    "> **스택 :** LIFO(후입선출) - 잔뜩 쌓아둔 접시들과 같음. 마지막에 쌓은 접시부터 제일 먼저 꺼내게 됨.  \n",
    "**큐 :** FIFO(선입선출) - 맛집에 입장하기 위해 줄을 서는 것과 같음. 가장 먼저 줄을 선 사람이 가장 먼 저 입장."
   ]
  },
  {
   "cell_type": "markdown",
   "metadata": {},
   "source": [
    "파이썬은 스택 자료형을 별도 제공 X  \n",
    "하지만, 리스트가 스택과 큐의 모든 연산을 지원. 다만, 리스트는 동적 배열로 구성되어 있어 큐의 효율적인 연산을 수행하기 위해서는 데크라는 별도 자료형 사용. 성능 고려하지 않는다면 리스트를 잘 사용하기만 해도 충분"
   ]
  },
  {
   "cell_type": "markdown",
   "metadata": {},
   "source": [
    "## 스택"
   ]
  },
  {
   "cell_type": "markdown",
   "metadata": {},
   "source": [
    "## 1. 유효한 괄호"
   ]
  },
  {
   "cell_type": "markdown",
   "metadata": {},
   "source": [
    "> Q. 괄호로 된 입력값이 올바른지 판별하라.\n",
    "- Open brackets must be closed by the same type of brackets.\n",
    "- Open brackets must be closed in the correct order.\n",
    "\n",
    "- https://leetcode.com/problems/valid-parentheses/"
   ]
  },
  {
   "cell_type": "code",
   "execution_count": 63,
   "metadata": {},
   "outputs": [],
   "source": [
    "input1_1 = '(){}[]'\n",
    "input1_2 = '()'\n",
    "input1_3 = '(}'\n",
    "input1_4 = '{[]}'"
   ]
  },
  {
   "cell_type": "markdown",
   "metadata": {},
   "source": [
    "### my sol"
   ]
  },
  {
   "cell_type": "code",
   "execution_count": 91,
   "metadata": {},
   "outputs": [],
   "source": [
    "def my_parentheses(s):\n",
    "\n",
    "    left = collections.deque()\n",
    "    temp = {\n",
    "             '(':')',\n",
    "             '{':'}',\n",
    "             '[':']'\n",
    "            }\n",
    "\n",
    "    for char in s:\n",
    "        if char in temp:\n",
    "            left.append(char)\n",
    "\n",
    "        else:\n",
    "            if not left or temp[left.pop()] != char: \n",
    "                # 왼쪽에 해당하는 괄호가 아닐 때, 가장 마지막 left 값이 현재 괄호와 짝이 아닐 시 False\n",
    "                return False\n",
    "    \n",
    "    return True"
   ]
  },
  {
   "cell_type": "code",
   "execution_count": 93,
   "metadata": {},
   "outputs": [
    {
     "name": "stdout",
     "output_type": "stream",
     "text": [
      "True\n",
      "True\n",
      "False\n",
      "True\n"
     ]
    }
   ],
   "source": [
    "print(my_parentheses(input1_1))\n",
    "print(my_parentheses(input1_2))\n",
    "print(my_parentheses(input1_3))\n",
    "print(my_parentheses(input1_4))"
   ]
  },
  {
   "cell_type": "markdown",
   "metadata": {},
   "source": [
    "### 풀이 9.1.1. 스택 일치 여부 판별"
   ]
  },
  {
   "cell_type": "code",
   "execution_count": 68,
   "metadata": {},
   "outputs": [],
   "source": [
    "def isValid(s):\n",
    "    stack = []\n",
    "    table = {\n",
    "             ')':'(',\n",
    "             '}':'{',\n",
    "             ']':'['\n",
    "            }\n",
    "    \n",
    "    for char in s:\n",
    "        if char not in table:\n",
    "            stack.append(char)\n",
    "            \n",
    "        elif not stack or table[char] != stack.pop():\n",
    "            return False\n",
    "        \n",
    "    return len(stack) == 0    "
   ]
  },
  {
   "cell_type": "code",
   "execution_count": 69,
   "metadata": {},
   "outputs": [
    {
     "name": "stdout",
     "output_type": "stream",
     "text": [
      "True\n",
      "True\n",
      "False\n",
      "True\n"
     ]
    }
   ],
   "source": [
    "print(isValid(input1_1))\n",
    "print(isValid(input1_2))\n",
    "print(isValid(input1_3))\n",
    "print(isValid(input1_4))"
   ]
  },
  {
   "cell_type": "markdown",
   "metadata": {},
   "source": [
    "- 문제를 잘 이해하는 것이 가장 중요  \n",
    "- 미리 짝을 지어놓고, 오른쪽 편 괄호가 올 때마다 처리하는 것이 해결법"
   ]
  },
  {
   "cell_type": "markdown",
   "metadata": {},
   "source": [
    "## 2. 중복 문자 제거\n",
    "- 난이도: *** (어려움)"
   ]
  },
  {
   "cell_type": "markdown",
   "metadata": {},
   "source": [
    "> Q. 중복된 문자를 제거하고 사전식 순서로 나열하라.\n",
    "- https://leetcode.com/problems/remove-duplicate-letters/"
   ]
  },
  {
   "cell_type": "code",
   "execution_count": 223,
   "metadata": {},
   "outputs": [],
   "source": [
    "input2_1 = 'bcabc'\n",
    "input2_2 = 'cbacdcbc'\n",
    "input2_3 = \"ecbacba\"\n",
    "input2_4 = 'bcadabc'"
   ]
  },
  {
   "cell_type": "markdown",
   "metadata": {},
   "source": [
    "### my sol 1"
   ]
  },
  {
   "cell_type": "code",
   "execution_count": 207,
   "metadata": {},
   "outputs": [],
   "source": [
    "def my_letters(s):\n",
    "    temp = collections.deque(sorted(list(set(s))))\n",
    "    result = []\n",
    "    for i in range(len(s)):\n",
    "        if s[i] == temp[0]:\n",
    "            temp.popleft()\n",
    "            result.append(s[i])\n",
    "\n",
    "        elif (s[i] not in s[i+1:]) and (s[i] in temp):\n",
    "            result.append(s[i])\n",
    "            \n",
    "    return ''.join(result)"
   ]
  },
  {
   "cell_type": "code",
   "execution_count": 209,
   "metadata": {},
   "outputs": [
    {
     "name": "stdout",
     "output_type": "stream",
     "text": [
      "abc\n",
      "adbc\n",
      "eacb\n",
      "adbc\n"
     ]
    }
   ],
   "source": [
    "print(my_letters(input2_1))\n",
    "print(my_letters(input2_2))\n",
    "print(my_letters(input2_3))\n",
    "print(my_letters(input2_4))\n",
    "\n",
    "# 몇 가지 시도 후 틀리는 예제를 input으로 두고 모든 경우에서 정답을 출력하도록 해보려 했지만 실패."
   ]
  },
  {
   "cell_type": "markdown",
   "metadata": {},
   "source": [
    "- 실패..."
   ]
  },
  {
   "cell_type": "markdown",
   "metadata": {},
   "source": [
    "### 풀이 9.2.1. 재귀를 이용한 분리"
   ]
  },
  {
   "cell_type": "code",
   "execution_count": 245,
   "metadata": {},
   "outputs": [],
   "source": [
    "def removeLetters(s):\n",
    "    unique = sorted(set(s))\n",
    "    \n",
    "    for i in unique:\n",
    "        temp = s[s.index(i): ]\n",
    "        if set(s) == set(temp):\n",
    "            return i + removeLetters(temp.replace(i, '')) # temp에 아무 것도 남지 않았을 때, 백트래킹하여 최종 결과 출력\n",
    "        \n",
    "    return ''"
   ]
  },
  {
   "cell_type": "code",
   "execution_count": 247,
   "metadata": {},
   "outputs": [
    {
     "name": "stdout",
     "output_type": "stream",
     "text": [
      "abc\n",
      "acdb\n",
      "eacb\n",
      "adbc\n"
     ]
    }
   ],
   "source": [
    "print(removeLetters(input2_1))\n",
    "print(removeLetters(input2_2))\n",
    "print(removeLetters(input2_3))\n",
    "print(removeLetters(input2_4))"
   ]
  },
  {
   "cell_type": "markdown",
   "metadata": {},
   "source": [
    "- 사전식 순서이므로 정렬 후 그 순서대로 진행을 해야 함.\n",
    "- 글자 하나를 추가할 때마다 뒤의 중복 글자를 삭제\n",
    "- 추가되는 글자와 그 뒤의 글자까지의 집합(set(temp))이 이미 추가된 글자를 제외한 집합(set(s))과 같아 함.\n",
    "- 분리 진행하는 풀이법 익혀두자...\n",
    "- 분리를 한 뒤에서 정렬 된 순서대로 진행하는 것이 포인트라고 생각됨."
   ]
  },
  {
   "cell_type": "markdown",
   "metadata": {},
   "source": [
    "### 풀이 9.2.2. 스택을 이용한 문자 제거"
   ]
  },
  {
   "cell_type": "code",
   "execution_count": 264,
   "metadata": {},
   "outputs": [],
   "source": [
    "def removeLetters2(s):\n",
    "    counter, seen, stack = collections.Counter(s), set(), []\n",
    "    \n",
    "    for char in s:\n",
    "        counter[char] -= 1\n",
    "        # 뒤에 해당 문자가 남아있는지의 확인을 in으로 처리하지 않았음!\n",
    "        if char in seen:\n",
    "            continue # seen은 이미 처리된 문자 집합. 즉, 이미 처리된 문자이면 스킵한다는 의미\n",
    "            \n",
    "        while stack and char < stack[-1] and counter[stack[-1]] > 0:\n",
    "            # 1) stack에 문자가 있을 때\n",
    "            # 2) 현재 문자가 이전 문자보다 앞서고\n",
    "            # 3) 이전 문자가 아직 쌓을 문자열 중에 남아있으면\n",
    "            seen.remove(stack.pop())\n",
    "            # 4) 이전 문자 stack과 seen에서 삭제하고 위의 1), 2), 3)을 반복.\n",
    "            \n",
    "        stack.append(char)\n",
    "        seen.add(char)\n",
    "    \n",
    "    return ''.join(stack)"
   ]
  },
  {
   "cell_type": "markdown",
   "metadata": {},
   "source": [
    "- 어떻게 이런 생각을..."
   ]
  },
  {
   "cell_type": "code",
   "execution_count": null,
   "metadata": {},
   "outputs": [],
   "source": [
    "input2_1 = 'bcabc'\n",
    "input2_2 = 'cbacdcbc'\n",
    "input2_3 = \"ecbacba\"\n",
    "input2_4 = 'bcadabc'"
   ]
  },
  {
   "cell_type": "code",
   "execution_count": 258,
   "metadata": {},
   "outputs": [
    {
     "data": {
      "text/plain": [
       "Counter({'b': 2, 'c': 2, 'a': 1})"
      ]
     },
     "execution_count": 258,
     "metadata": {},
     "output_type": "execute_result"
    }
   ],
   "source": [
    "collections.Counter(input2_1)"
   ]
  },
  {
   "cell_type": "code",
   "execution_count": 259,
   "metadata": {},
   "outputs": [
    {
     "data": {
      "text/plain": [
       "True"
      ]
     },
     "execution_count": 259,
     "metadata": {},
     "output_type": "execute_result"
    }
   ],
   "source": [
    "'a' < 'b' # 문자열끼리도 크기 비교가 가능했음!"
   ]
  },
  {
   "cell_type": "code",
   "execution_count": 265,
   "metadata": {},
   "outputs": [
    {
     "name": "stdout",
     "output_type": "stream",
     "text": [
      "abc\n",
      "acdb\n",
      "eacb\n",
      "adbc\n"
     ]
    }
   ],
   "source": [
    "print(removeLetters2(input2_1))\n",
    "print(removeLetters2(input2_2))\n",
    "print(removeLetters2(input2_3))\n",
    "print(removeLetters2(input2_4))"
   ]
  },
  {
   "cell_type": "markdown",
   "metadata": {},
   "source": [
    "## 3. 일일 온도"
   ]
  },
  {
   "cell_type": "markdown",
   "metadata": {},
   "source": [
    "> Q. 매일의 화씨 온도 리스트 T를 입력 받아서, 더 따뜻한 날씨를 위해서는 며칠을 더 기다려야하는지를 출력하라.\n",
    "- https://leetcode.com/problems/daily-temperatures/"
   ]
  },
  {
   "cell_type": "code",
   "execution_count": 330,
   "metadata": {},
   "outputs": [],
   "source": [
    "T1 = [73, 74, 75, 71, 69, 72, 76, 73]\n",
    "# [1, 1, 4, 2, 1, 1, 0, 0]\n",
    "T2 = [55,38,53,81,61,93,97,32,43,78]\n",
    "# [3,1,1,2,1,1,0,1,1,0]\n",
    "T3 = [89,62,70,58,47,47,46,76,100,70]"
   ]
  },
  {
   "cell_type": "markdown",
   "metadata": {},
   "source": [
    "### my sol 1 - time limit exceeded"
   ]
  },
  {
   "cell_type": "code",
   "execution_count": 334,
   "metadata": {},
   "outputs": [],
   "source": [
    "def my_warmer(T):\n",
    "\n",
    "    output = []\n",
    "    for i in range(len(T)-1):\n",
    "        left, right = i, i+1\n",
    "        step = 1\n",
    "\n",
    "        while (right < len(T)-1) and T[right] <= T[left]:\n",
    "            right += 1\n",
    "\n",
    "        if T[left] < T[right]:\n",
    "            output.append(right - left)\n",
    "\n",
    "        else:\n",
    "            output.append(0)\n",
    "\n",
    "    output.append(0)\n",
    "    \n",
    "    return output"
   ]
  },
  {
   "cell_type": "code",
   "execution_count": 336,
   "metadata": {},
   "outputs": [
    {
     "name": "stdout",
     "output_type": "stream",
     "text": [
      "[1, 1, 4, 2, 1, 1, 0, 0]\n",
      "[3, 1, 1, 2, 1, 1, 0, 1, 1, 0]\n",
      "[8, 1, 5, 4, 3, 2, 1, 1, 0, 0]\n"
     ]
    }
   ],
   "source": [
    "print(my_warmer(T1))\n",
    "print(my_warmer(T2))\n",
    "print(my_warmer(T3))"
   ]
  },
  {
   "cell_type": "markdown",
   "metadata": {},
   "source": [
    "### 풀이 9.3.1. 스택 값 비교"
   ]
  },
  {
   "cell_type": "code",
   "execution_count": 337,
   "metadata": {},
   "outputs": [],
   "source": [
    "def dailyTemperatures(T):\n",
    "    answer = [0]*len(T)\n",
    "    stack = []\n",
    "    \n",
    "    for i, cur in enumerate(T):\n",
    "        # 현재 온도가 이전 스택 값보다 높다면 정답 처리\n",
    "        while stack and cur > T[stack[-1]]:\n",
    "            last = stack.pop()\n",
    "            answer[last] = i - last\n",
    "            \n",
    "        stack.append(i)\n",
    "        \n",
    "    return answer"
   ]
  },
  {
   "cell_type": "code",
   "execution_count": 338,
   "metadata": {},
   "outputs": [
    {
     "name": "stdout",
     "output_type": "stream",
     "text": [
      "[1, 1, 4, 2, 1, 1, 0, 0]\n",
      "[3, 1, 1, 2, 1, 1, 0, 1, 1, 0]\n",
      "[8, 1, 5, 4, 3, 2, 1, 1, 0, 0]\n"
     ]
    }
   ],
   "source": [
    "print(dailyTemperatures(T1))\n",
    "print(dailyTemperatures(T2))\n",
    "print(dailyTemperatures(T3))"
   ]
  },
  {
   "cell_type": "markdown",
   "metadata": {},
   "source": [
    "- 후입된 것부터 처리해나가는 스택 문제의 특성을 잘 기억하자."
   ]
  }
 ],
 "metadata": {
  "kernelspec": {
   "display_name": "Python 3",
   "language": "python",
   "name": "python3"
  },
  "language_info": {
   "codemirror_mode": {
    "name": "ipython",
    "version": 3
   },
   "file_extension": ".py",
   "mimetype": "text/x-python",
   "name": "python",
   "nbconvert_exporter": "python",
   "pygments_lexer": "ipython3",
   "version": "3.7.6"
  }
 },
 "nbformat": 4,
 "nbformat_minor": 4
}
